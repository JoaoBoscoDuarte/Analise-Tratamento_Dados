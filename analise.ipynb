{
 "cells": [
  {
   "cell_type": "markdown",
   "metadata": {},
   "source": [
    "# Análise de dados eleições Camaragibe 2024\n",
    "Esse pequeno projeto tem o objetivo de auxiliar no tratamento de dados na pesquisa eleitoral do município de Camaragibe 2024. O tratamento de dados era feito, diariamente, por meio de aplicações de filtros manuais em diversas planilhas, esse projeto tem objetivo de melhorar essa feitoria, automatizando a filtragem e tratamento desses dados referente as perguntas e respostas adequadas. Observe que o dataset usado é em formato .xlsx (excel), formato fornecido pelo ambiente da pesquisa."
   ]
  },
  {
   "cell_type": "markdown",
   "metadata": {},
   "source": [
    "## Base de dados\n",
    "A base de dados usada é composta por cerca de 24 perguntas, posteriomente processadas, como resultados temos um resultado indicando a quantidade e porcentagem de cada variável do bloco relacionado a pesquisa."
   ]
  },
  {
   "cell_type": "code",
   "execution_count": 1,
   "metadata": {},
   "outputs": [
    {
     "name": "stdout",
     "output_type": "stream",
     "text": [
      "1. SEXO\n",
      "FEMININO     58.93\n",
      "MASCULINO    41.07\n",
      "Name: proportion, dtype: float64\n",
      "\n",
      "2. FAIXA ETÁRIA\n",
      "45 A 59 ANOS       26.79\n",
      "MAIS DE 70 ANOS    23.21\n",
      "60 A 69 ANOS       16.07\n",
      "25 A 34 ANOS       12.50\n",
      "16 A 24 ANOS       12.50\n",
      "35 A 44 ANOS        8.93\n",
      "Name: proportion, dtype: float64\n",
      "\n"
     ]
    }
   ],
   "source": [
    "# Bibliotecas e base de dados usada(xlsx)\n",
    "import pandas as pd\n",
    "\n",
    "# Carregar o DataFrame\n",
    "df = pd.read_excel('src/CAMARAGIBE - INABI - 06.09.xlsx', sheet_name='DADOS')\n",
    "\n",
    "# Sexo\n",
    "contagem_sexo = df[\"1. SEXO\"].value_counts()\n",
    "valor_mais_frequente_sexo = contagem_sexo.idxmax()\n",
    "df[\"1. SEXO\"] = df[\"1. SEXO\"].fillna(valor_mais_frequente_sexo)\n",
    "porcentagem_sexo = (df[\"1. SEXO\"].value_counts(normalize=True) * 100).round(2)\n",
    "print(porcentagem_sexo)\n",
    "print()\n",
    "\n",
    "# Faixa Etária\n",
    "faixa_etaria = df[\"2. FAIXA ETÁRIA\"].value_counts()\n",
    "valor_mais_frequente_faixa_etaria = faixa_etaria.idxmax()\n",
    "df[\"2. FAIXA ETÁRIA\"] = df[\"2. FAIXA ETÁRIA\"].fillna(valor_mais_frequente_faixa_etaria)\n",
    "porcentagem_faixa_etaria = (df[\"2. FAIXA ETÁRIA\"].value_counts(normalize=True) * 100).round(2)\n",
    "print(porcentagem_faixa_etaria)\n",
    "print()\n"
   ]
  },
  {
   "cell_type": "code",
   "execution_count": null,
   "metadata": {},
   "outputs": [],
   "source": []
  },
  {
   "cell_type": "code",
   "execution_count": null,
   "metadata": {},
   "outputs": [],
   "source": []
  },
  {
   "cell_type": "code",
   "execution_count": null,
   "metadata": {},
   "outputs": [],
   "source": []
  }
 ],
 "metadata": {
  "kernelspec": {
   "display_name": "Python 3 (ipykernel)",
   "language": "python",
   "name": "python3"
  },
  "language_info": {
   "codemirror_mode": {
    "name": "ipython",
    "version": 3
   },
   "file_extension": ".py",
   "mimetype": "text/x-python",
   "name": "python",
   "nbconvert_exporter": "python",
   "pygments_lexer": "ipython3",
   "version": "3.12.4"
  }
 },
 "nbformat": 4,
 "nbformat_minor": 4
}
