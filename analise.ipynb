{
 "cells": [
  {
   "cell_type": "markdown",
   "metadata": {},
   "source": [
    "# Análise de dados eleições Camaragibe 2024\n",
    "Esse pequeno projeto tem o objetivo de auxiliar no tratamento de dados na pesquisa eleitoral do município de Camaragibe 2024. O tratamento de dados era feito, diariamente, por meio de aplicações de filtros manuais em diversas planilhas, esse projeto tem objetivo de melhorar essa feitoria, automatizando a filtragem e tratamento desses dados referente as perguntas e respostas adequadas. Observe que o dataset usado é em formato .xlsx (excel), formato fornecido pelo ambiente da pesquisa."
   ]
  },
  {
   "cell_type": "markdown",
   "metadata": {},
   "source": [
    "## Base de dados\n",
    "A base de dados usada é composta por cerca de 24 perguntas, posteriomente processadas, como resultados temos um resultado indicando a quantidade e porcentagem de cada variável do bloco relacionado a pesquisa."
   ]
  },
  {
   "cell_type": "code",
   "execution_count": 11,
   "metadata": {},
   "outputs": [],
   "source": [
    "import pandas as pd\n",
    "df = pd.read_excel(\"src/CAMARAGIBE - INABI - 06.09.xlsx\", sheet_name=\"DADOS\")"
   ]
  },
  {
   "cell_type": "markdown",
   "metadata": {},
   "source": [
    "### 1. Sexo\n",
    "Pergunta relacionada ao sexo do entrevistado"
   ]
  },
  {
   "cell_type": "code",
   "execution_count": 13,
   "metadata": {},
   "outputs": [
    {
     "data": {
      "text/html": [
       "<div>\n",
       "<style scoped>\n",
       "    .dataframe tbody tr th:only-of-type {\n",
       "        vertical-align: middle;\n",
       "    }\n",
       "\n",
       "    .dataframe tbody tr th {\n",
       "        vertical-align: top;\n",
       "    }\n",
       "\n",
       "    .dataframe thead th {\n",
       "        text-align: right;\n",
       "    }\n",
       "</style>\n",
       "<table border=\"1\" class=\"dataframe\">\n",
       "  <thead>\n",
       "    <tr style=\"text-align: right;\">\n",
       "      <th></th>\n",
       "      <th>Contagem</th>\n",
       "      <th>Porcentagem</th>\n",
       "    </tr>\n",
       "    <tr>\n",
       "      <th>1. SEXO</th>\n",
       "      <th></th>\n",
       "      <th></th>\n",
       "    </tr>\n",
       "  </thead>\n",
       "  <tbody>\n",
       "    <tr>\n",
       "      <th>FEMININO</th>\n",
       "      <td>33</td>\n",
       "      <td>58.93%</td>\n",
       "    </tr>\n",
       "    <tr>\n",
       "      <th>MASCULINO</th>\n",
       "      <td>23</td>\n",
       "      <td>41.07%</td>\n",
       "    </tr>\n",
       "    <tr>\n",
       "      <th>Total</th>\n",
       "      <td>56</td>\n",
       "      <td>100.00%</td>\n",
       "    </tr>\n",
       "  </tbody>\n",
       "</table>\n",
       "</div>"
      ],
      "text/plain": [
       "           Contagem Porcentagem\n",
       "1. SEXO                        \n",
       "FEMININO         33      58.93%\n",
       "MASCULINO        23      41.07%\n",
       "Total            56     100.00%"
      ]
     },
     "execution_count": 13,
     "metadata": {},
     "output_type": "execute_result"
    }
   ],
   "source": [
    "#1. Sexo\n",
    "def sexo(coluna=\"1. SEXO\"):\n",
    "  # Tratamento geral e limpeza\n",
    "  sexo = df[coluna].value_counts()\n",
    "  valor_mais_frequente = sexo.idxmax()\n",
    "  df[coluna] = df[coluna].fillna(valor_mais_frequente)\n",
    "\n",
    "  contagem_sexo = df[coluna].value_counts()\n",
    "  porcentagem_sexo = (df[coluna].value_counts(normalize = True) * 100).round(2)\n",
    "  \n",
    "  # Exibição em tabela\n",
    "  resultado = pd.DataFrame({\n",
    "      'Contagem': contagem_sexo,\n",
    "      'Porcentagem': porcentagem_sexo.astype(str) + '%'\n",
    "  })\n",
    "    \n",
    "  # Adicionar a linha do total\n",
    "  total_contagem = contagem_sexo.sum()\n",
    "  total_porcentagem = porcentagem_sexo.sum()\n",
    "\n",
    "  resultado.loc['Total'] = [total_contagem, f'{total_porcentagem:.2f}%']\n",
    "\n",
    "  return resultado\n",
    "\n",
    "sexo()"
   ]
  },
  {
   "cell_type": "markdown",
   "metadata": {},
   "source": [
    "### 2. Faixa etaria\n",
    "Pergunta referente a faixa etária do entrevistado. Faixas etárias gerais: \n",
    "- 16 a 24 anos\n",
    "- 25 a 34 anos\n",
    "- 35 a 44 anos\n",
    "- "
   ]
  },
  {
   "cell_type": "code",
   "execution_count": 15,
   "metadata": {},
   "outputs": [
    {
     "data": {
      "text/html": [
       "<div>\n",
       "<style scoped>\n",
       "    .dataframe tbody tr th:only-of-type {\n",
       "        vertical-align: middle;\n",
       "    }\n",
       "\n",
       "    .dataframe tbody tr th {\n",
       "        vertical-align: top;\n",
       "    }\n",
       "\n",
       "    .dataframe thead th {\n",
       "        text-align: right;\n",
       "    }\n",
       "</style>\n",
       "<table border=\"1\" class=\"dataframe\">\n",
       "  <thead>\n",
       "    <tr style=\"text-align: right;\">\n",
       "      <th></th>\n",
       "      <th>contagem</th>\n",
       "      <th>porcentagem</th>\n",
       "    </tr>\n",
       "    <tr>\n",
       "      <th>2. FAIXA ETÁRIA</th>\n",
       "      <th></th>\n",
       "      <th></th>\n",
       "    </tr>\n",
       "  </thead>\n",
       "  <tbody>\n",
       "    <tr>\n",
       "      <th>45 A 59 ANOS</th>\n",
       "      <td>15</td>\n",
       "      <td>26.79%</td>\n",
       "    </tr>\n",
       "    <tr>\n",
       "      <th>MAIS DE 70 ANOS</th>\n",
       "      <td>13</td>\n",
       "      <td>23.21%</td>\n",
       "    </tr>\n",
       "    <tr>\n",
       "      <th>60 A 69 ANOS</th>\n",
       "      <td>9</td>\n",
       "      <td>16.07%</td>\n",
       "    </tr>\n",
       "    <tr>\n",
       "      <th>25 A 34 ANOS</th>\n",
       "      <td>7</td>\n",
       "      <td>12.5%</td>\n",
       "    </tr>\n",
       "    <tr>\n",
       "      <th>16 A 24 ANOS</th>\n",
       "      <td>7</td>\n",
       "      <td>12.5%</td>\n",
       "    </tr>\n",
       "    <tr>\n",
       "      <th>35 A 44 ANOS</th>\n",
       "      <td>5</td>\n",
       "      <td>8.93%</td>\n",
       "    </tr>\n",
       "    <tr>\n",
       "      <th>Total</th>\n",
       "      <td>56</td>\n",
       "      <td>100.00%</td>\n",
       "    </tr>\n",
       "  </tbody>\n",
       "</table>\n",
       "</div>"
      ],
      "text/plain": [
       "                 contagem porcentagem\n",
       "2. FAIXA ETÁRIA                      \n",
       "45 A 59 ANOS           15      26.79%\n",
       "MAIS DE 70 ANOS        13      23.21%\n",
       "60 A 69 ANOS            9      16.07%\n",
       "25 A 34 ANOS            7       12.5%\n",
       "16 A 24 ANOS            7       12.5%\n",
       "35 A 44 ANOS            5       8.93%\n",
       "Total                  56     100.00%"
      ]
     },
     "execution_count": 15,
     "metadata": {},
     "output_type": "execute_result"
    }
   ],
   "source": [
    "def faixa_etaria(coluna = \"2. FAIXA ETÁRIA\"):\n",
    "  # Tratamento geral e limpeza\n",
    "  faixa_etaria = df[coluna].value_counts()\n",
    "  valor_mais_frequente = faixa_etaria.idxmax()\n",
    "  df[coluna] = df[coluna].fillna(valor_mais_frequente)\n",
    "\n",
    "  contagem_faixa_etaria = df[coluna].value_counts()\n",
    "  porcentagem_faixa_etaria = (df[coluna].value_counts(normalize = True) * 100).round(2)\n",
    "\n",
    "  # Exibir Tabela\n",
    "  resultado = pd.DataFrame({\n",
    "      \"contagem\": contagem_faixa_etaria,\n",
    "      \"porcentagem\": porcentagem_faixa_etaria.astype(str) + \"%\"\n",
    "  })\n",
    "\n",
    "  # Adiciona a linha do total\n",
    "  total_contagem = contagem_faixa_etaria.sum()\n",
    "  total_porcentagem = porcentagem_faixa_etaria.sum()\n",
    "\n",
    "  resultado.loc['Total'] = [total_contagem, f'{total_porcentagem:.2f}%']\n",
    "\n",
    "  return resultado\n",
    "\n",
    "faixa_etaria()"
   ]
  },
  {
   "cell_type": "code",
   "execution_count": null,
   "metadata": {},
   "outputs": [],
   "source": []
  }
 ],
 "metadata": {
  "kernelspec": {
   "display_name": "Python 3 (ipykernel)",
   "language": "python",
   "name": "python3"
  },
  "language_info": {
   "codemirror_mode": {
    "name": "ipython",
    "version": 3
   },
   "file_extension": ".py",
   "mimetype": "text/x-python",
   "name": "python",
   "nbconvert_exporter": "python",
   "pygments_lexer": "ipython3",
   "version": "3.12.4"
  }
 },
 "nbformat": 4,
 "nbformat_minor": 4
}
