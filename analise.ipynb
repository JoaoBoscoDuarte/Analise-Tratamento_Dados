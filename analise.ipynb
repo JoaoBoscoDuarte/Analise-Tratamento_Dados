{
 "cells": [
  {
   "cell_type": "markdown",
   "metadata": {},
   "source": [
    "# Análise de dados eleições Camaragibe 2024\n",
    "Este projeto tem como objetivo otimizar o tratamento de dados de uma pesquisa eleitoral relacionada às eleições de Camaragibe em 2024. Anteriormente, o processamento dos dados era realizado manualmente, com a aplicação diária de filtros em diversas planilhas. O propósito deste projeto é automatizar o processo de filtragem e tratamento dos dados, garantindo uma análise mais eficiente e precisa das perguntas e respostas coletadas."
   ]
  },
  {
   "cell_type": "markdown",
   "metadata": {},
   "source": [
    "## Base de dados\n",
    "A base de dados utilizada consiste em um arquivo no formato .xlsx (Excel), contendo cerca de 24 perguntas que compõem o questionário da pesquisa. Após o processamento, o sistema gera relatórios indicando a quantidade e a porcentagem de cada resposta relacionada aos blocos de perguntas analisados. Essas melhorias visam simplificar o fluxo de trabalho, reduzir erros manuais e fornecer insights rápidos e confiáveis sobre as respostas coletadas durante a pesquisa."
   ]
  },
  {
   "cell_type": "code",
   "execution_count": 145,
   "metadata": {},
   "outputs": [],
   "source": [
    "import os\n",
    "import pandas as pd\n",
    "\n",
    "nomeArquivo = \"CAMARAGIBE - CÉU AZUL - 07.09.xlsx\"\n",
    "df = pd.read_excel(f\"src/{nomeArquivo}\", sheet_name=\"DADOS\")"
   ]
  },
  {
   "cell_type": "markdown",
   "metadata": {},
   "source": [
    "### 1. Sexo\n",
    "Embora tenha comportamento RU Estimulada, deve-se sempre ter uma resposta válida (feminino/masculino), logo considera os itens vazios como a resposta com mior mostragem."
   ]
  },
  {
   "cell_type": "code",
   "execution_count": 146,
   "metadata": {},
   "outputs": [],
   "source": [
    "#1. Sexo\n",
    "def sexo():\n",
    "  # Tratamento geral das linhas vazias\n",
    "  coluna = \"1. SEXO\"\n",
    "  sexo = df[coluna].value_counts()\n",
    "  valor_mais_frequente = sexo.idxmax()\n",
    "  df[coluna] = df[coluna].fillna(valor_mais_frequente)\n",
    "\n",
    "  contagem_sexo = df[coluna].value_counts()\n",
    "  porcentagem_sexo = (df[coluna].value_counts(normalize = True) * 100).round(2)\n",
    "  \n",
    "  # Exibição em tabela\n",
    "  resultado = pd.DataFrame({\n",
    "      'Contagem': contagem_sexo,\n",
    "      'Porcentagem': porcentagem_sexo.astype(str) + '%'\n",
    "  })\n",
    "    \n",
    "  # Adicionar a linha do total\n",
    "  total_contagem = contagem_sexo.sum()\n",
    "  total_porcentagem = porcentagem_sexo.sum()\n",
    "\n",
    "  if (total_porcentagem != 100.00):\n",
    "    ajuste = 100.00 - total_porcentagem\n",
    "    total_porcentagem += ajuste\n",
    "\n",
    "  resultado.loc['Total'] = [total_contagem, f'{total_porcentagem:.2f}%']\n",
    "\n",
    "  return resultado"
   ]
  },
  {
   "cell_type": "markdown",
   "metadata": {},
   "source": [
    "### 2. Faixa etaria\n",
    "Embora também apresente comportamento RU Estimulada, deve-se também sempre se manter com respostas válidas (de acordo com as faixas etárias válidas), logo, considera-se a faixa etária das linhas vazias como a faixa de maior mostragem."
   ]
  },
  {
   "cell_type": "code",
   "execution_count": 147,
   "metadata": {},
   "outputs": [],
   "source": [
    "def faixa_etaria():\n",
    "  # Tratamento geral das linhas vazias\n",
    "  coluna = \"2. FAIXA ETÁRIA\"\n",
    "  faixa_etaria = df[coluna].value_counts()\n",
    "  valor_mais_frequente = faixa_etaria.idxmax()\n",
    "  df[coluna] = df[coluna].fillna(valor_mais_frequente)\n",
    "\n",
    "  contagem_faixa_etaria = df[coluna].value_counts()\n",
    "  porcentagem_faixa_etaria = (df[coluna].value_counts(normalize = True) * 100).round(2)\n",
    "\n",
    "  # Exibir Tabela\n",
    "  resultado = pd.DataFrame({\n",
    "      \"contagem\": contagem_faixa_etaria,\n",
    "      \"porcentagem\": porcentagem_faixa_etaria.astype(str) + \"%\"\n",
    "  })\n",
    "\n",
    "  # Adiciona a linha do total\n",
    "  total_contagem = contagem_faixa_etaria.sum()\n",
    "  total_porcentagem = porcentagem_faixa_etaria.sum()\n",
    "\n",
    "  if (total_porcentagem != 100.00):\n",
    "    ajuste = 100.00 - total_porcentagem\n",
    "    total_porcentagem += ajuste\n",
    "\n",
    "  resultado.loc['Total'] = [total_contagem, f'{total_porcentagem:.2f}%']\n",
    "\n",
    "  return resultado"
   ]
  },
  {
   "cell_type": "markdown",
   "metadata": {},
   "source": [
    "### 3. Escolaridade\n",
    "Pergunta referente a escolaridade do entrevistado. Respostas:\n"
   ]
  },
  {
   "cell_type": "code",
   "execution_count": 148,
   "metadata": {},
   "outputs": [],
   "source": [
    "def escolaridade():\n",
    "  # Tratamento geral das linhas vazias\n",
    "  coluna = \"3. ESCOLARIDADE\"\n",
    "  escolaridade = df[coluna].value_counts()\n",
    "  valor_mais_frequente = escolaridade.idxmax()\n",
    "  df[coluna] = df[coluna].fillna(valor_mais_frequente)\n",
    "\n",
    "  contagem_escolaridade = df[coluna].value_counts()\n",
    "  porcentagem_escolaridade = (df[coluna].value_counts(normalize = True) * 100).round(2)\n",
    "\n",
    "  # Exibir Tabela\n",
    "  resultado = pd.DataFrame({\n",
    "      \"contagem\": contagem_escolaridade,\n",
    "      \"porcentagem\": porcentagem_escolaridade.astype(str) + \"%\"\n",
    "  })\n",
    "\n",
    "  # Adiciona a linha do total\n",
    "  total_contagem = contagem_escolaridade.sum()\n",
    "  total_porcentagem = porcentagem_escolaridade.sum()\n",
    "    \n",
    "  if (total_porcentagem != 100.00):\n",
    "    ajuste = 100.00 - total_porcentagem\n",
    "    total_porcentagem += ajuste\n",
    "\n",
    "  resultado.loc['Total'] = [total_contagem, f'{total_porcentagem:.2f}%']\n",
    "\n",
    "  return resultado"
   ]
  },
  {
   "cell_type": "markdown",
   "metadata": {},
   "source": [
    "### Tratamento perguntas espontâneas"
   ]
  },
  {
   "cell_type": "code",
   "execution_count": 149,
   "metadata": {},
   "outputs": [],
   "source": [
    "def tratamento_ru_espontanea(coluna):\n",
    "  substituicoes = {\n",
    "        \"DIEGO CABRAL\": [\"diego\", \"cabral\", \"diego cabral\", \"diego alves\"],\n",
    "        \"JORGE ALEXANDRE\": [\"jorge\", \"jorge alexandre\", \"alexandre\", \"jorge ale\", \"jorge alixandre\", \"jorge vieira\", \"ale xandre\"],\n",
    "        \"FELIPE DANTAS\": [\"felipe\", \"dantas\", \"felipe dantas\"],\n",
    "        \"BOSCO\": [\"bosco\"],\n",
    "        \"NENHUM\": [\"não\", \"nulo\", \"n\", \"nenhum\", \"nao sabe\", \"n sei\", \"n quero opinar\", \"n quero responder\", \"nada a declarar\", \"n faz ideia\", \"n opinou\"],\n",
    "        \"NÃO SABE\": [\"não sabe\", \"nao opnou\", \"nao opinou\", \"ñ sei\", \"indecisa\", \"indeciso\", ]\n",
    "    }\n",
    "  \n",
    "  # Tratamento geral dos espaços vazios e repetidos\n",
    "  df[coluna] = df[coluna].fillna(\"NENHUM\")\n",
    "\n",
    "  # Aplicando a substituição\n",
    "  for candidato in df[coluna]:\n",
    "      if (candidato.lower().strip() in substituicoes[\"DIEGO CABRAL\"]):\n",
    "          df[coluna] = df[coluna].replace(candidato, \"DIEGO CABRAL\")\n",
    "\n",
    "      elif (candidato.lower().strip() in substituicoes[\"JORGE ALEXANDRE\"]):\n",
    "          df[coluna] = df[coluna].replace(candidato, \"JORGE ALEXANDRE\")\n",
    "\n",
    "      elif (candidato.lower().strip() in substituicoes[\"FELIPE DANTAS\"]):\n",
    "          df[coluna] = df[coluna].replace(candidato, \"FELIPE DANTAS\")\n",
    "\n",
    "      elif (candidato.lower().strip() in substituicoes[\"BOSCO\"]):\n",
    "          df[coluna] = df[coluna].replace(candidato, \"BOSCO\")\n",
    "\n",
    "      elif (candidato.lower().strip() in substituicoes[\"NENHUM\"]):\n",
    "          df[coluna] = df[coluna].replace(candidato, \"NENHUM\")\n",
    "\n",
    "      elif (candidato.lower().strip() in substituicoes[\"NÃO SABE\"]):\n",
    "          df[coluna] = df[coluna].replace(candidato, \"NÃO SABE/NÃO RESPONDEU\")\n",
    "        \n",
    "  contagem_votaria = df[coluna].value_counts()\n",
    "  porcentagem_votaria = (df[coluna].value_counts(normalize = True) * 100).round(2)\n",
    "\n",
    "  # Exibição da tabela\n",
    "  resultado = pd.DataFrame({\n",
    "      \"contagem\": contagem_votaria,\n",
    "      \"porcentagem\": porcentagem_votaria.astype(str) + \"%\"\n",
    "  })\n",
    "\n",
    "  # Total\n",
    "  total_contagem = contagem_votaria.sum()\n",
    "  total_porcentagem = porcentagem_votaria.sum()\n",
    "    \n",
    "  if (total_porcentagem != 100.00):\n",
    "      ajuste = 100.00 - total_porcentagem\n",
    "      total_porcentagem += ajuste\n",
    "\n",
    "  resultado.loc[\"Total\"] = [total_contagem, f\"{total_porcentagem:.2f}%\"]\n",
    "\n",
    "  return resultado\n",
    "\n",
    "perguntas_espontanea = [\n",
    "    \"5. SE AS ELEIÇÕES PARA PREFEITO DE CAMARAGIBE FOSSE HOJE, EM QUAL CANDIDATO VOCÊ VOTARIA? (RU ESPONTÂNEA)\",\n",
    "    \"17. A PREFEITA NADEGI NÃO PODERÁ SER MAIS CANDIDATA NA PRÓXIMA ELEIÇÃO. QUEM É O CANDIDATO A PREFEITO QUE ELA IRÁ APOIAR? (RU ESPONTÂNEA)\"\n",
    "]"
   ]
  },
  {
   "cell_type": "markdown",
   "metadata": {},
   "source": [
    "### Tratamento de dados das perguntas RU Estimulada"
   ]
  },
  {
   "cell_type": "code",
   "execution_count": 150,
   "metadata": {},
   "outputs": [],
   "source": [
    "def tratamento_ru_estimulada(coluna):\n",
    "  # Tratamento geral dos espaços vazios e repetidos\n",
    "    df[coluna] = df[coluna].fillna(\"NÃO SABE/NÃO RESPONDEU\")\n",
    "\n",
    "    contagem = df[coluna].value_counts()\n",
    "    porcentagem = (df[coluna].value_counts(normalize = True) * 100).round(2)\n",
    "\n",
    "    # Exibição da tabela\n",
    "    resultado = pd.DataFrame({\n",
    "        \"contagem\": contagem,\n",
    "        \"porcentagem\": porcentagem.astype(str) + \"%\"\n",
    "    })\n",
    "\n",
    "    # Total\n",
    "    total_contagem = contagem.sum()\n",
    "    total_porcentagem = porcentagem.sum()\n",
    "    \n",
    "    if (total_porcentagem != 100.00):\n",
    "        ajuste = 100.00 - total_porcentagem\n",
    "        total_porcentagem += ajuste\n",
    "\n",
    "    resultado.loc[\"Total\"] = [total_contagem, f\"{total_porcentagem:.2f}%\"]\n",
    "\n",
    "    return resultado\n",
    "\n",
    "perguntas_estimulada = [\n",
    "    \"4. COMO VOCÊ CLASSIFICARIA O SEU INTERESSE NAS ELEIÇÕES MUNICIPAIS DESTE ANO? (RU ESTIMULADA)\",\n",
    "    \"6. SE AS ELEIÇÕES PARA PREFEITO DE CAMARAGIBE FOSSEM HOJE, EM QUAIS DESSES CANDIDATOS VOCÊ VOTARIA? (RU ESTIMULADA)\",\n",
    "    \"7. INDEPENDENTE DA SUA INTENÇÃO DE VOTOS, QUEM VOCÊ ACREDITA QUE ESTEJA MAIS PREPARADO PARA SER PREFEITO DE CAMARAGIBE? (RU ESTIMULADA)\",\n",
    "    \"8. INDEPENDENTE DA SUA INTENÇÃO DE VOTOS, QUEM VOCÊ ACREDITA QUE GANHARÁ A ELEIÇÃO PARA PREFEITO DE CAMARAGIBE? (RU ESTIMULADA)\",\n",
    "    \"9. EM RELAÇÃO A SUA INTENÇÃO DE VOTO PARA PREFEITO DE CAMARAGIBE, HOJE VOCÊ DIRIA QUE: (RU ESTIMULADA)\",\n",
    "    \"10. SOBRE A CANDIDATURA A PREFEITO DE CAMARAGIBE DE DIEGO CABRAL, VOCÊ DIRIA QUE: (RU ESTIMULADA)\",\n",
    "    \"11. (EXCETO PARA QUEM NÃO CONHECE) E VOCÊ POSSUI UMA IMAGEM POSITIVA OU NEGATIVA DO PRÉ-CANDIDATO A PREFEITO DE CAMARAGIBE DIEGO CABRAL: (RU ESTIMULADA)\",\n",
    "    \"12. SOBRE A CANDIDATURA A PREFEITO DE CAMARAGIBE DE JORGE ALEXANDRE, VOCÊ DIRIA QUE: (RU ESTIMULADA)\",\n",
    "    \"13. (EXCETO PARA QUEM NÃO O CONHECE) E VOCÊ POSSUI UMA IMAGEM POSITIVA OU NEGATIVA DO PRÉ-CANDIDATO A PREFEITO DE CAMARAGIBE JORGE ALEXANDRE: (RU ESTIMULADA)\",\n",
    "    \"14. SOBRE A CANDIDATURA A PREFEITO DE CAMARAGIBE DE BOSCO, VOCÊ DIRIA QUE: (RU ESTIMULADA)\",\n",
    "    \"15. (EXCETO PARA QUEM NÃO O CONHECE) E VOCÊ POSSUI UMA IMAGEM POSITIVA OU NEGATIVA DO PRÉ-CANDIDATO A PREFEITO DE CAMARAGIBE BOSCO: (RU ESTIMULADA)\",\n",
    "    \"16. SE AS ELEIÇÕES PARA PREFEITO DE CAMARAGIBE FOSSEM HOJE, EM QUEM VOCÊ VOTARIA? (RU ESTIMULADA)\",\n",
    "    \"18. SE AS ELEIÇÕES PARA PREFEITO DE CAMARAGIBE FOSSEM HOJE, VOCÊ VOTARIA EM DIEGO CABRAL SE O PRESIDENTE LULA APOIAR? (RU ESTIMULADA)\",\n",
    "    \"19. DE MANEIRA GERAL, COMO VOCÊ AVALIA A GESTÃO DA GOVERNADORA RAQUEL LYRA? (RU ESTIMULADA)\",\n",
    "    \"20. SOBRE A GESTÃO DA PREFEITA NADEGI, COMO O (A) SR. (A) AVALIA A SUA ADMINISTRAÇÃO A FRENTE DA PREFEITURA DE CAMARAGIBE? (RU ESTIMULADA)\",\n",
    "    \"21. DE MANEIRA GERAL, SOBRE A FORMA DE ADMINISTRAR DA PREFEITA NADEGI, O (A) SR. (A) APROVA OU DESAPROVA? (RU ESTIMULADA)\",\n",
    "    \"22. EM QUAL DESSES CANDIDATOS VOCÊ NÃO VOTARIA DE MANEIRA ALGUMA? (RU ESTIMULADA)\",\n",
    "    \"23. (NÃO PEA) DAS ALTERNATIVAS QUE VOU LER, QUAL MELHOR REPRESENTA A SUA SITUAÇÃO EM RELAÇÃO AO TRABALHO?\",\n",
    "    \"24. RENDA (PESSOAL)\",\n",
    "    \"25. RELIGIÃO\"\n",
    "    ]"
   ]
  },
  {
   "cell_type": "markdown",
   "metadata": {},
   "source": [
    "# Exportando análise"
   ]
  },
  {
   "cell_type": "code",
   "execution_count": 151,
   "metadata": {
    "scrolled": true
   },
   "outputs": [
    {
     "name": "stdout",
     "output_type": "stream",
     "text": [
      "Processo concluído. Os resultados foram salvos em 'resultados_tratamento.xlsx'.\n"
     ]
    }
   ],
   "source": [
    "# Criar um novo arquivo Excel com os resultados\n",
    "with pd.ExcelWriter(f\"results/{nomeArquivo}\", engine=\"openpyxl\") as writer:\n",
    "    # Aplicando o tratamento para perguntas específicas\n",
    "    sexo = sexo()\n",
    "    sexo.to_excel(writer, sheet_name=f\"Espontanea_{\"1. SEXO\"}\", index=True)\n",
    "\n",
    "    faixa_etaria = faixa_etaria()\n",
    "    faixa_etaria.to_excel(writer, sheet_name=f\"Espontanea_{\"2. FAIXA ETÁRIA\"}\", index=True)\n",
    "\n",
    "    escolaridade = escolaridade()\n",
    "    escolaridade.to_excel(writer, sheet_name=f\"Espontanea_{\"3. ESCOLARIDADE\"}\", index=True)\n",
    "    \n",
    "    # Aplicar o tratamento para RU Espontânea e salvar os resultados\n",
    "    for coluna in perguntas_espontanea:\n",
    "        resultado = tratamento_ru_espontanea(coluna)\n",
    "        resultado.to_excel(writer, sheet_name=f\"Espontanea_{coluna[:10]}\", index=True)\n",
    "        \n",
    "    # Aplicar o tratamento para RU Estimulada e salvar os resultados\n",
    "    for coluna in perguntas_estimulada:\n",
    "        resultado = tratamento_ru_estimulada(coluna)\n",
    "        resultado.to_excel(writer, sheet_name=f\"Estimulada_{coluna[:10]}\", index=True)\n",
    "\n",
    "print(\"Processo concluído. Os resultados foram salvos em 'resultados_tratamento.xlsx'.\")"
   ]
  }
 ],
 "metadata": {
  "kernelspec": {
   "display_name": "Python 3 (ipykernel)",
   "language": "python",
   "name": "python3"
  },
  "language_info": {
   "codemirror_mode": {
    "name": "ipython",
    "version": 3
   },
   "file_extension": ".py",
   "mimetype": "text/x-python",
   "name": "python",
   "nbconvert_exporter": "python",
   "pygments_lexer": "ipython3",
   "version": "3.12.4"
  }
 },
 "nbformat": 4,
 "nbformat_minor": 4
}
