{
 "cells": [
  {
   "cell_type": "markdown",
   "metadata": {},
   "source": [
    "# Análise de dados eleições Camaragibe 2024\n",
    "Esse pequeno projeto tem o objetivo de auxiliar no tratamento de dados na pesquisa eleitoral do município de Camaragibe 2024. O tratamento de dados era feito, diariamente, por meio de aplicações de filtros manuais em diversas planilhas, esse projeto tem objetivo de melhorar essa feitoria, automatizando a filtragem e tratamento desses dados referente as perguntas e respostas adequadas. Observe que o dataset usado é em formato .xlsx (excel), formato fornecido pelo ambiente da pesquisa."
   ]
  },
  {
   "cell_type": "markdown",
   "metadata": {},
   "source": [
    "## Base de dados\n",
    "A base de dados usada é composta por cerca de 24 perguntas, posteriomente processadas, como resultados temos um resultado indicando a quantidade e porcentagem de cada variável do bloco relacionado a pesquisa."
   ]
  },
  {
   "cell_type": "code",
   "execution_count": 7,
   "metadata": {},
   "outputs": [],
   "source": [
    "import pandas as pd\n",
    "df = pd.read_excel(\"src/CAMARAGIBE - INABI - 06.09.xlsx\", sheet_name=\"DADOS\")"
   ]
  },
  {
   "cell_type": "markdown",
   "metadata": {},
   "source": [
    "### 1. Sexo\n",
    "Pergunta relacionada ao sexo do entrevistado"
   ]
  },
  {
   "cell_type": "code",
   "execution_count": 8,
   "metadata": {},
   "outputs": [],
   "source": [
    "#1. Sexo\n",
    "def sexo(coluna=\"1. SEXO\"):\n",
    "  # Tratamento geral e limpeza\n",
    "  sexo = df[coluna].value_counts()\n",
    "  valor_mais_frequente = sexo.idxmax()\n",
    "  df[coluna] = df[coluna].fillna(valor_mais_frequente)\n",
    "\n",
    "  contagem_sexo = df[coluna].value_counts()\n",
    "  porcentagem_sexo = (df[coluna].value_counts(normalize = True) * 100).round(2)\n",
    "  \n",
    "  # Exibição em tabela\n",
    "  resultado = pd.DataFrame({\n",
    "      'Contagem': contagem_sexo,\n",
    "      'Porcentagem': porcentagem_sexo.astype(str) + '%'\n",
    "  })\n",
    "    \n",
    "  # Adicionar a linha do total\n",
    "  total_contagem = sexo.sum()\n",
    "  total_porcentagem = porcentagem_sexo.sum()\n",
    "\n",
    "  resultado.loc['Total'] = [total_contagem, f'{total_porcentagem:.2f}%']\n",
    "\n",
    "  return resultado"
   ]
  }
 ],
 "metadata": {
  "kernelspec": {
   "display_name": "Python 3 (ipykernel)",
   "language": "python",
   "name": "python3"
  },
  "language_info": {
   "codemirror_mode": {
    "name": "ipython",
    "version": 3
   },
   "file_extension": ".py",
   "mimetype": "text/x-python",
   "name": "python",
   "nbconvert_exporter": "python",
   "pygments_lexer": "ipython3",
   "version": "3.12.4"
  }
 },
 "nbformat": 4,
 "nbformat_minor": 4
}
