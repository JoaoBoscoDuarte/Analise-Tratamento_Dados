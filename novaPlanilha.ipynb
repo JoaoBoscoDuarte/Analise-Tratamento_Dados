{
 "cells": [
  {
   "cell_type": "markdown",
   "id": "c2866206-7232-4a11-945b-19887c64d84f",
   "metadata": {},
   "source": [
    "# Criação da nova planilha com dados filtrados"
   ]
  },
  {
   "cell_type": "code",
   "execution_count": null,
   "id": "20449116-bb7e-4be1-a621-dde480604e56",
   "metadata": {},
   "outputs": [],
   "source": []
  }
 ],
 "metadata": {
  "kernelspec": {
   "display_name": "Python 3 (ipykernel)",
   "language": "python",
   "name": "python3"
  },
  "language_info": {
   "codemirror_mode": {
    "name": "ipython",
    "version": 3
   },
   "file_extension": ".py",
   "mimetype": "text/x-python",
   "name": "python",
   "nbconvert_exporter": "python",
   "pygments_lexer": "ipython3",
   "version": "3.12.4"
  }
 },
 "nbformat": 4,
 "nbformat_minor": 5
}
